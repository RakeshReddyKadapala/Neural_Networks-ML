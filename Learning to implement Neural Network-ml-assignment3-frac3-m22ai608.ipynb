{
 "cells": [
  {
   "cell_type": "code",
   "execution_count": null,
   "id": "0fc7babd",
   "metadata": {},
   "outputs": [],
   "source": [
    "\t\t\t\t\t\t\t\t\t\t#ml-assignment-frac3-m22ai608#"
   ]
  },
  {
   "cell_type": "code",
   "execution_count": 49,
   "id": "f0269bbb",
   "metadata": {},
   "outputs": [],
   "source": [
    "#Learning to implement Neural Network\n",
    "#Gurmukhi Handwritten Digit Classification: Gurmukhi is one of the popularIndian scripts widely used in Indian state of Punjab. In this part of the assignment,our goal is to develop a neural network solution (a simple NN, not a CNN) for classifyingGurmukhi digits. We provide you Handwritten Gurmukhi digit dataset here:\n",
    "\n",
    "#Dataset link\n",
    "#Modify the code provided in here and a video tutorial here, and develop a robustneural network to classify the Gurmukhi digits. Higher performance on test set willhave bonus point. Briefly write your observation and submit your code so that we canevaluate your implementation at our end"
   ]
  },
  {
   "cell_type": "code",
   "execution_count": 1,
   "id": "39bfd0ae",
   "metadata": {},
   "outputs": [],
   "source": [
    "#Importing Libraries\n",
    "import numpy as np\n",
    "import pandas as pd\n",
    "from matplotlib import pyplot as plt\n",
    "%matplotlib inline\n",
    "import cv2\n",
    "import os\n",
    "from keras.layers import Dense, Flatten\n",
    "import tensorflow as tf\n",
    "from tensorflow import keras"
   ]
  },
  {
   "cell_type": "code",
   "execution_count": 15,
   "id": "be83cd58",
   "metadata": {},
   "outputs": [],
   "source": [
    "from keras.datasets import mnist"
   ]
  },
  {
   "cell_type": "code",
   "execution_count": 2,
   "id": "c35f1ab9",
   "metadata": {},
   "outputs": [
    {
     "data": {
      "text/plain": [
       "'C:\\\\Users\\\\Admin\\\\Downloads'"
      ]
     },
     "execution_count": 2,
     "metadata": {},
     "output_type": "execute_result"
    }
   ],
   "source": [
    "train_path = \"C:\\\\Users\\\\Admin\\\\Downloads\"\n",
    "train_path"
   ]
  },
  {
   "cell_type": "code",
   "execution_count": 3,
   "id": "1c9fe1b2",
   "metadata": {},
   "outputs": [
    {
     "data": {
      "text/plain": [
       "'C:\\\\Users\\\\Admin\\\\Downloads'"
      ]
     },
     "execution_count": 3,
     "metadata": {},
     "output_type": "execute_result"
    }
   ],
   "source": [
    "val_path=\"C:\\\\Users\\\\Admin\\\\Downloads\"\n",
    "val_path"
   ]
  },
  {
   "cell_type": "code",
   "execution_count": 4,
   "id": "97bd240b",
   "metadata": {},
   "outputs": [],
   "source": [
    "# Set the path to the folder containing the 'train' folder\n",
    "data_directory = train_path\n",
    "# Set the image size\n",
    "img_size = (32, 32)\n",
    "# Create empty lists for the images and labels\n",
    "images = []\n",
    "labels = []\n"
   ]
  },
  {
   "cell_type": "code",
   "execution_count": 5,
   "id": "b27647fc",
   "metadata": {},
   "outputs": [],
   "source": [
    "# Loop over each folder from '0' to '9'\n",
    "for label in range(10):\n",
    " \tfolder_path = os.path.join(data_directory, 'train', str(label))\n",
    " \t# Loop over each image in the folder\n",
    " \tfor file in os.listdir(folder_path):\n",
    " \t\tfile_path = os.path.join(folder_path, file)\n",
    " \t\tif file_path.endswith(('.tiff','.bmp')):\n",
    "\t \t\t# Load the image and resize it to the desired size\n",
    "\t \t\timg = cv2.imread(file_path, cv2.IMREAD_GRAYSCALE)\n",
    "\t \t\timg = cv2.resize(img, img_size)\n",
    "\t\t\t # Append the image and label to the lists\n",
    " \t\t\timages.append(img)\n",
    " \t\t\tlabels.append(label)"
   ]
  },
  {
   "cell_type": "code",
   "execution_count": 6,
   "id": "f92078f2",
   "metadata": {},
   "outputs": [],
   "source": [
    "# Convert the lists to NumPy arrays\n",
    "images = np.array(images)\n",
    "labels = np.array(labels)\n",
    "# Save the arrays in NumPy format\n",
    "np.save('x_train.npy', images)\n",
    "np.save('y_train.npy', labels)\n"
   ]
  },
  {
   "cell_type": "code",
   "execution_count": 7,
   "id": "61e0f9c6",
   "metadata": {
    "collapsed": true
   },
   "outputs": [
    {
     "name": "stdout",
     "output_type": "stream",
     "text": [
      "[[[255 255 255 ... 255 255 255]\n",
      "  [255 255 255 ... 255 255 255]\n",
      "  [255 255 255 ... 255 255 255]\n",
      "  ...\n",
      "  [255 255   0 ... 255 255 255]\n",
      "  [255 255 255 ... 255 255 255]\n",
      "  [255 255 255 ... 255 255 255]]\n",
      "\n",
      " [[255 255 255 ... 255 255 255]\n",
      "  [255 255 255 ... 255 255 255]\n",
      "  [255 255 255 ... 255 255 255]\n",
      "  ...\n",
      "  [255 255 255 ... 255 255 255]\n",
      "  [255 255 255 ... 255 255 255]\n",
      "  [255 255 255 ... 255 255 255]]\n",
      "\n",
      " [[255 255 255 ... 255 255 255]\n",
      "  [255 255 255 ... 255 255 255]\n",
      "  [255 255 255 ... 255 255 255]\n",
      "  ...\n",
      "  [255 255 255 ... 255 255 255]\n",
      "  [255 255 255 ... 255 255 255]\n",
      "  [255 255 255 ... 255 255 255]]\n",
      "\n",
      " ...\n",
      "\n",
      " [[255 255 255 ... 255 255 255]\n",
      "  [255 255 255 ... 255 255 255]\n",
      "  [255 255 255 ...   0 255 255]\n",
      "  ...\n",
      "  [255 255 255 ...   0 255 255]\n",
      "  [255 255 255 ...   0 255 255]\n",
      "  [255 255 255 ... 255 255 255]]\n",
      "\n",
      " [[255 255 255 ...   0   0   0]\n",
      "  [255 255 255 ...   0   0   0]\n",
      "  [255 255 255 ... 255 255 255]\n",
      "  ...\n",
      "  [255 255   0 ... 255 255 255]\n",
      "  [255 255 255 ... 255 255 255]\n",
      "  [255 255 255 ... 255 255 255]]\n",
      "\n",
      " [[255 255 255 ...   0 255 255]\n",
      "  [255 255 255 ...   0   0   0]\n",
      "  [255 255 255 ...   0   0   0]\n",
      "  ...\n",
      "  [255 255 255 ... 255 255 255]\n",
      "  [255 255 255 ... 255 255 255]\n",
      "  [255 255 255 ... 255 255 255]]] [0 0 0 0 0 0 0 0 0 0 0 0 0 0 0 0 0 0 0 0 0 0 0 0 0 0 0 0 0 0 0 0 0 0 0 0 0\n",
      " 0 0 0 0 0 0 0 0 0 0 0 0 0 0 0 0 0 0 0 0 0 0 0 0 0 0 0 0 0 0 0 0 0 0 0 0 0\n",
      " 0 0 0 0 0 0 0 0 0 0 0 0 0 0 0 0 0 0 0 0 0 0 0 0 0 0 1 1 1 1 1 1 1 1 1 1 1\n",
      " 1 1 1 1 1 1 1 1 1 1 1 1 1 1 1 1 1 1 1 1 1 1 1 1 1 1 1 1 1 1 1 1 1 1 1 1 1\n",
      " 1 1 1 1 1 1 1 1 1 1 1 1 1 1 1 1 1 1 1 1 1 1 1 1 1 1 1 1 1 1 1 1 1 1 1 1 1\n",
      " 1 1 1 1 1 1 1 1 1 1 1 1 1 1 1 2 2 2 2 2 2 2 2 2 2 2 2 2 2 2 2 2 2 2 2 2 2\n",
      " 2 2 2 2 2 2 2 2 2 2 2 2 2 2 2 2 2 2 2 2 2 2 2 2 2 2 2 2 2 2 2 2 2 2 2 2 2\n",
      " 2 2 2 2 2 2 2 2 2 2 2 2 2 2 2 2 2 2 2 2 2 2 2 2 2 2 2 2 2 2 2 2 2 2 2 2 2\n",
      " 2 2 2 2 3 3 3 3 3 3 3 3 3 3 3 3 3 3 3 3 3 3 3 3 3 3 3 3 3 3 3 3 3 3 3 3 3\n",
      " 3 3 3 3 3 3 3 3 3 3 3 3 3 3 3 3 3 3 3 3 3 3 3 3 3 3 3 3 3 3 3 3 3 3 3 3 3\n",
      " 3 3 3 3 3 3 3 3 3 3 3 3 3 3 3 3 3 3 3 3 3 3 3 3 3 3 3 3 3 3 4 4 4 4 4 4 4\n",
      " 4 4 4 4 4 4 4 4 4 4 4 4 4 4 4 4 4 4 4 4 4 4 4 4 4 4 4 4 4 4 4 4 4 4 4 4 4\n",
      " 4 4 4 4 4 4 4 4 4 4 4 4 4 4 4 4 4 4 4 4 4 4 4 4 4 4 4 4 4 4 4 4 4 4 4 4 4\n",
      " 4 4 4 4 4 4 4 4 4 4 4 4 4 4 4 4 4 4 4 5 5 5 5 5 5 5 5 5 5 5 5 5 5 5 5 5 5\n",
      " 5 5 5 5 5 5 5 5 5 5 5 5 5 5 5 5 5 5 5 5 5 5 5 5 5 5 5 5 5 5 5 5 5 5 5 5 5\n",
      " 5 5 5 5 5 5 5 5 5 5 5 5 5 5 5 5 5 5 5 5 5 5 5 5 5 5 5 5 5 5 5 5 5 5 5 5 5\n",
      " 5 5 5 5 5 5 5 5 6 6 6 6 6 6 6 6 6 6 6 6 6 6 6 6 6 6 6 6 6 6 6 6 6 6 6 6 6\n",
      " 6 6 6 6 6 6 6 6 6 6 6 6 6 6 6 6 6 6 6 6 6 6 6 6 6 6 6 6 6 6 6 6 6 6 6 6 6\n",
      " 6 6 6 6 6 6 6 6 6 6 6 6 6 6 6 6 6 6 6 6 6 6 6 6 6 6 6 6 6 6 6 6 6 6 7 7 7\n",
      " 7 7 7 7 7 7 7 7 7 7 7 7 7 7 7 7 7 7 7 7 7 7 7 7 7 7 7 7 7 7 7 7 7 7 7 7 7\n",
      " 7 7 7 7 7 7 7 7 7 7 7 7 7 7 7 7 7 7 7 7 7 7 7 7 7 7 7 7 7 7 7 7 7 7 7 7 7\n",
      " 7 7 7 7 7 7 7 7 7 7 7 7 7 7 7 7 7 7 7 7 7 7 7 8 8 8 8 8 8 8 8 8 8 8 8 8 8\n",
      " 8 8 8 8 8 8 8 8 8 8 8 8 8 8 8 8 8 8 8 8 8 8 8 8 8 8 8 8 8 8 8 8 8 8 8 8 8\n",
      " 8 8 8 8 8 8 8 8 8 8 8 8 8 8 8 8 8 8 8 8 8 8 8 8 8 8 8 8 8 8 8 8 8 8 8 8 8\n",
      " 8 8 8 8 8 8 8 8 8 8 8 8 9 9 9 9 9 9 9 9 9 9 9 9 9 9 9 9 9 9 9 9 9 9 9 9 9\n",
      " 9 9 9 9 9 9 9 9 9 9 9 9 9 9 9 9 9 9 9 9 9 9 9 9 9 9 9 9 9 9 9 9 9 9 9 9 9\n",
      " 9 9 9 9 9 9 9 9 9 9 9 9 9 9 9 9 9 9 9 9 9 9 9 9 9 9 9 9 9 9 9 9 9 9 9 9 9\n",
      " 9]\n"
     ]
    }
   ],
   "source": [
    "print(images,labels)"
   ]
  },
  {
   "cell_type": "code",
   "execution_count": 8,
   "id": "594f3478",
   "metadata": {},
   "outputs": [],
   "source": [
    "# Set the path to the folder containing the 'val' folder\n",
    "data_dir_val = val_path\n",
    "# Set the image size\n",
    "img_size_val = (32, 32)\n",
    "# Create empty lists for the images and labels\n",
    "images_values = []\n",
    "labels_values = []"
   ]
  },
  {
   "cell_type": "code",
   "execution_count": 9,
   "id": "852537a5",
   "metadata": {},
   "outputs": [],
   "source": [
    "# Loop over each folder from '0' to '9'\n",
    "for label in range(10):\n",
    "    folder_path=os.path.join(data_directory,'val',str(label))\n",
    "    #loop over each image in the folder\n",
    "    for file in os.listdir(folder_path):\n",
    "        file_path=os.path.join(folder_path,file)\n",
    "        if file_path.endswith(('.tiff','.bmp')):\n",
    "            # Load the image and resize it to the desired size\n",
    "            img = cv2.imread(file_path, cv2.IMREAD_GRAYSCALE)\n",
    "            img = cv2.resize(img, img_size)            \n",
    "            #append the image and label to the lists\n",
    "            images_values.append(img)\n",
    "            labels_values.append(label)"
   ]
  },
  {
   "cell_type": "code",
   "execution_count": 11,
   "id": "992f92bf",
   "metadata": {},
   "outputs": [],
   "source": [
    "# Convert the lists to NumPy arrays\n",
    "images_values = np.array(images_values)\n",
    "labels_values = np.array(labels_values)\n",
    "# Save the arrays in NumPy format\n",
    "np.save('x_test.npy', images_values)\n",
    "np.save('y_test.npy', labels_values)"
   ]
  },
  {
   "cell_type": "code",
   "execution_count": 12,
   "id": "9af573b9",
   "metadata": {},
   "outputs": [],
   "source": [
    "# Load the dataset\n",
    "x_train = np.load('x_train.npy')\n",
    "y_train = np.load('y_train.npy')\n",
    "x_test = np.load('x_test.npy')\n",
    "y_test = np.load('y_test.npy')"
   ]
  },
  {
   "cell_type": "code",
   "execution_count": 13,
   "id": "25c51df3",
   "metadata": {
    "collapsed": true
   },
   "outputs": [
    {
     "name": "stdout",
     "output_type": "stream",
     "text": [
      "x_train [0 0 0 0 0 0 0 0 0 0 0 0 0 0 0 0 0 0 0 0 0 0 0 0 0 0 0 0 0 0 0 0 0 0 0 0 0\n",
      " 0 0 0 0 0 0 0 0 0 0 0 0 0 0 0 0 0 0 0 0 0 0 0 0 0 0 0 0 0 0 0 0 0 0 0 0 0\n",
      " 0 0 0 0 0 0 0 0 0 0 0 0 0 0 0 0 0 0 0 0 0 0 0 0 0 0 1 1 1 1 1 1 1 1 1 1 1\n",
      " 1 1 1 1 1 1 1 1 1 1 1 1 1 1 1 1 1 1 1 1 1 1 1 1 1 1 1 1 1 1 1 1 1 1 1 1 1\n",
      " 1 1 1 1 1 1 1 1 1 1 1 1 1 1 1 1 1 1 1 1 1 1 1 1 1 1 1 1 1 1 1 1 1 1 1 1 1\n",
      " 1 1 1 1 1 1 1 1 1 1 1 1 1 1 1 2 2 2 2 2 2 2 2 2 2 2 2 2 2 2 2 2 2 2 2 2 2\n",
      " 2 2 2 2 2 2 2 2 2 2 2 2 2 2 2 2 2 2 2 2 2 2 2 2 2 2 2 2 2 2 2 2 2 2 2 2 2\n",
      " 2 2 2 2 2 2 2 2 2 2 2 2 2 2 2 2 2 2 2 2 2 2 2 2 2 2 2 2 2 2 2 2 2 2 2 2 2\n",
      " 2 2 2 2 3 3 3 3 3 3 3 3 3 3 3 3 3 3 3 3 3 3 3 3 3 3 3 3 3 3 3 3 3 3 3 3 3\n",
      " 3 3 3 3 3 3 3 3 3 3 3 3 3 3 3 3 3 3 3 3 3 3 3 3 3 3 3 3 3 3 3 3 3 3 3 3 3\n",
      " 3 3 3 3 3 3 3 3 3 3 3 3 3 3 3 3 3 3 3 3 3 3 3 3 3 3 3 3 3 3 4 4 4 4 4 4 4\n",
      " 4 4 4 4 4 4 4 4 4 4 4 4 4 4 4 4 4 4 4 4 4 4 4 4 4 4 4 4 4 4 4 4 4 4 4 4 4\n",
      " 4 4 4 4 4 4 4 4 4 4 4 4 4 4 4 4 4 4 4 4 4 4 4 4 4 4 4 4 4 4 4 4 4 4 4 4 4\n",
      " 4 4 4 4 4 4 4 4 4 4 4 4 4 4 4 4 4 4 4 5 5 5 5 5 5 5 5 5 5 5 5 5 5 5 5 5 5\n",
      " 5 5 5 5 5 5 5 5 5 5 5 5 5 5 5 5 5 5 5 5 5 5 5 5 5 5 5 5 5 5 5 5 5 5 5 5 5\n",
      " 5 5 5 5 5 5 5 5 5 5 5 5 5 5 5 5 5 5 5 5 5 5 5 5 5 5 5 5 5 5 5 5 5 5 5 5 5\n",
      " 5 5 5 5 5 5 5 5 6 6 6 6 6 6 6 6 6 6 6 6 6 6 6 6 6 6 6 6 6 6 6 6 6 6 6 6 6\n",
      " 6 6 6 6 6 6 6 6 6 6 6 6 6 6 6 6 6 6 6 6 6 6 6 6 6 6 6 6 6 6 6 6 6 6 6 6 6\n",
      " 6 6 6 6 6 6 6 6 6 6 6 6 6 6 6 6 6 6 6 6 6 6 6 6 6 6 6 6 6 6 6 6 6 6 7 7 7\n",
      " 7 7 7 7 7 7 7 7 7 7 7 7 7 7 7 7 7 7 7 7 7 7 7 7 7 7 7 7 7 7 7 7 7 7 7 7 7\n",
      " 7 7 7 7 7 7 7 7 7 7 7 7 7 7 7 7 7 7 7 7 7 7 7 7 7 7 7 7 7 7 7 7 7 7 7 7 7\n",
      " 7 7 7 7 7 7 7 7 7 7 7 7 7 7 7 7 7 7 7 7 7 7 7 8 8 8 8 8 8 8 8 8 8 8 8 8 8\n",
      " 8 8 8 8 8 8 8 8 8 8 8 8 8 8 8 8 8 8 8 8 8 8 8 8 8 8 8 8 8 8 8 8 8 8 8 8 8\n",
      " 8 8 8 8 8 8 8 8 8 8 8 8 8 8 8 8 8 8 8 8 8 8 8 8 8 8 8 8 8 8 8 8 8 8 8 8 8\n",
      " 8 8 8 8 8 8 8 8 8 8 8 8 9 9 9 9 9 9 9 9 9 9 9 9 9 9 9 9 9 9 9 9 9 9 9 9 9\n",
      " 9 9 9 9 9 9 9 9 9 9 9 9 9 9 9 9 9 9 9 9 9 9 9 9 9 9 9 9 9 9 9 9 9 9 9 9 9\n",
      " 9 9 9 9 9 9 9 9 9 9 9 9 9 9 9 9 9 9 9 9 9 9 9 9 9 9 9 9 9 9 9 9 9 9 9 9 9\n",
      " 9] [[[255 255 255 ... 255 255 255]\n",
      "  [255 255 255 ... 255 255 255]\n",
      "  [255 255 255 ... 255 255 255]\n",
      "  ...\n",
      "  [255 255 255 ... 255 255 255]\n",
      "  [255 255 255 ... 255 255 255]\n",
      "  [255 255 255 ... 255 255 255]]\n",
      "\n",
      " [[255 255 255 ... 255 255 255]\n",
      "  [255 255 255 ... 255 255 255]\n",
      "  [255 255 255 ... 255 255 255]\n",
      "  ...\n",
      "  [255 255 255 ... 255 255 255]\n",
      "  [255 255 255 ... 255 255 255]\n",
      "  [255 255 255 ... 255 255 255]]\n",
      "\n",
      " [[255 255 255 ... 255 255 255]\n",
      "  [255 255 255 ... 255 255 255]\n",
      "  [255 255 255 ... 255 255 255]\n",
      "  ...\n",
      "  [255 255 255 ... 255 255 255]\n",
      "  [255 255 255 ... 255 255 255]\n",
      "  [255 255 255 ... 255 255 255]]\n",
      "\n",
      " ...\n",
      "\n",
      " [[255 255 255 ...   0 255 255]\n",
      "  [255 255 255 ...   0   0 255]\n",
      "  [255 255 255 ...   0   0 255]\n",
      "  ...\n",
      "  [255 255 255 ... 255 255 255]\n",
      "  [255 255 255 ...   0   0   0]\n",
      "  [255 255 255 ...   0   0   0]]\n",
      "\n",
      " [[255 255 255 ...   0   0 255]\n",
      "  [255 255 255 ...   0   0 255]\n",
      "  [255 255 255 ...   0   0   0]\n",
      "  ...\n",
      "  [255 255 255 ... 255 255 255]\n",
      "  [255 255 255 ... 255 255 255]\n",
      "  [255 255 255 ... 255 255 255]]\n",
      "\n",
      " [[255 255 255 ... 255 255 255]\n",
      "  [255 255 255 ... 255 255 255]\n",
      "  [255 255 255 ... 255 255 255]\n",
      "  ...\n",
      "  [255 255 255 ...   0   0   0]\n",
      "  [255 255 255 ...   0   0   0]\n",
      "  [255 255 255 ... 255 255 255]]] [0 0 0 0 0 0 0 0 0 0 0 0 0 0 0 0 0 0 1 1 1 1 1 1 1 1 1 1 1 1 1 1 1 1 2 2 2\n",
      " 2 2 2 2 2 2 2 2 2 2 2 2 2 2 3 3 3 3 3 3 3 3 3 3 3 3 3 3 3 3 3 4 4 4 4 4 4\n",
      " 4 4 4 4 4 4 4 4 4 4 4 4 5 5 5 5 5 5 5 5 5 5 5 5 5 5 5 5 5 5 6 6 6 6 6 6 6\n",
      " 6 6 6 6 6 6 6 6 6 6 6 7 7 7 7 7 7 7 7 7 7 7 7 7 7 7 7 7 7 8 8 8 8 8 8 8 8\n",
      " 8 8 8 8 8 8 8 8 8 8 9 9 9 9 9 9 9 9 9 9 9 9 9 9 9 9 9 9 9 9]\n"
     ]
    }
   ],
   "source": [
    "print('x_train',y_train,x_test,y_test)"
   ]
  },
  {
   "cell_type": "code",
   "execution_count": 22,
   "id": "cb99049a",
   "metadata": {},
   "outputs": [
    {
     "name": "stdout",
     "output_type": "stream",
     "text": [
      "Number of images in training set: 1000\n",
      "Number of images in test set: 178\n",
      "Shape of first training image: (32, 32)\n",
      "Label of first training image: 0\n",
      "Label of 130th test image: 7\n"
     ]
    },
    {
     "data": {
      "image/png": "[encoded data removed]",
      "text/plain": [
       "<Figure size 800x500 with 2 Axes>"
      ]
     },
     "metadata": {},
     "output_type": "display_data"
    },
    {
     "data": {
      "image/png": "[encoded data removed]",
      "text/plain": [
       "<Figure size 640x480 with 1 Axes>"
      ]
     },
     "metadata": {},
     "output_type": "display_data"
    }
   ],
   "source": [
    "# test the images are loaded correctly\n",
    "print(f\"Number of images in training set: {len(x_train)}\")\n",
    "print(f\"Number of images in test set: {len(x_test)}\")\n",
    "print(f\"Shape of first training image: {x_train[0].shape}\")\n",
    "print(f\"Label of first training image: {y_train[0]}\")\n",
    "print(f\"Label of 130th test image: {y_test[130]}\")\n",
    "\n",
    "# Display example images\n",
    "plt.figure(figsize=(8, 5))\n",
    "plt.subplot(1, 2, 1)\n",
    "plt.imshow(x_train[1], cmap='gray')\n",
    "plt.title(f\"Label: {y_train[1]}\")\n",
    "plt.subplot(1, 2, 2)\n",
    "plt.imshow(x_train[988], cmap='gray')\n",
    "plt.title(f\"Label: {y_train[972]}\")\n",
    "plt.show()\n",
    "\n",
    "# Display an image from the test set\n",
    "plt.figure()\n",
    "plt.imshow(x_test[120], cmap='gray')\n",
    "plt.title(f\"Label: {y_test[122]}\")\n",
    "plt.show()"
   ]
  },
  {
   "cell_type": "code",
   "execution_count": 25,
   "id": "c9865211",
   "metadata": {},
   "outputs": [
    {
     "name": "stdout",
     "output_type": "stream",
     "text": [
      "Epoch 1/10\n",
      "32/32 [==============================] - 0s 6ms/step - loss: 171.1082 - accuracy: 0.3850 - val_loss: 52.0979 - val_accuracy: 0.5674\n",
      "Epoch 2/10\n",
      "32/32 [==============================] - 0s 3ms/step - loss: 26.0582 - accuracy: 0.7840 - val_loss: 25.3502 - val_accuracy: 0.7472\n",
      "Epoch 3/10\n",
      "32/32 [==============================] - 0s 2ms/step - loss: 15.5550 - accuracy: 0.8670 - val_loss: 25.0089 - val_accuracy: 0.7921\n",
      "Epoch 4/10\n",
      "32/32 [==============================] - 0s 2ms/step - loss: 9.6651 - accuracy: 0.9040 - val_loss: 27.1390 - val_accuracy: 0.7921\n",
      "Epoch 5/10\n",
      "32/32 [==============================] - 0s 2ms/step - loss: 8.6695 - accuracy: 0.9100 - val_loss: 17.5808 - val_accuracy: 0.8596\n",
      "Epoch 6/10\n",
      "32/32 [==============================] - 0s 2ms/step - loss: 5.5868 - accuracy: 0.9410 - val_loss: 19.8201 - val_accuracy: 0.8483\n",
      "Epoch 7/10\n",
      "32/32 [==============================] - 0s 2ms/step - loss: 4.8666 - accuracy: 0.9400 - val_loss: 21.4528 - val_accuracy: 0.8652\n",
      "Epoch 8/10\n",
      "32/32 [==============================] - 0s 2ms/step - loss: 3.7175 - accuracy: 0.9590 - val_loss: 28.4628 - val_accuracy: 0.8146\n",
      "Epoch 9/10\n",
      "32/32 [==============================] - 0s 3ms/step - loss: 3.1027 - accuracy: 0.9580 - val_loss: 27.6232 - val_accuracy: 0.8315\n",
      "Epoch 10/10\n",
      "32/32 [==============================] - 0s 2ms/step - loss: 2.7184 - accuracy: 0.9550 - val_loss: 21.8949 - val_accuracy: 0.8371\n"
     ]
    },
    {
     "data": {
      "text/plain": [
       "<keras.callbacks.History at 0x2bbaf69e6a0>"
      ]
     },
     "execution_count": 25,
     "metadata": {},
     "output_type": "execute_result"
    }
   ],
   "source": [
    "# creating a simple nn\n",
    "# create a dense layer where every input is connected to every other output, the number of inputs are 1000, outputs are 10\n",
    "# activation function is sigmoid\n",
    "model = keras.Sequential([\n",
    " keras.layers.Flatten(),keras.layers.Dense(10, input_shape=(1024,),activation = 'sigmoid') \n",
    "])\n",
    "# compile the nn\n",
    "model.compile(optimizer='adam',\n",
    " loss='sparse_categorical_crossentropy',\n",
    " metrics=['accuracy']\n",
    " )\n",
    "# train the model\n",
    "# some 10 iterations done here\n",
    "model.fit(x_train, y_train,epochs= 10, validation_data=(x_test, y_test))\n"
   ]
  },
  {
   "cell_type": "code",
   "execution_count": null,
   "id": "a17c08d1",
   "metadata": {},
   "outputs": [],
   "source": [
    "\n",
    "# Observation : we see a better accuracy from the 2nd iteration\n",
    "# now scale and try to check the accuracy, divide dataset by 255 "
   ]
  },
  {
   "cell_type": "code",
   "execution_count": 26,
   "id": "9ecbd5b8",
   "metadata": {
    "scrolled": true
   },
   "outputs": [
    {
     "name": "stdout",
     "output_type": "stream",
     "text": [
      "Epoch 1/10\n",
      "32/32 [==============================] - 0s 5ms/step - loss: 0.7920 - accuracy: 0.8890 - val_loss: 1.1143 - val_accuracy: 0.6966\n",
      "Epoch 2/10\n",
      "32/32 [==============================] - 0s 2ms/step - loss: 0.7872 - accuracy: 0.8830 - val_loss: 1.0537 - val_accuracy: 0.7472\n",
      "Epoch 3/10\n",
      "32/32 [==============================] - 0s 2ms/step - loss: 0.7436 - accuracy: 0.9230 - val_loss: 1.0052 - val_accuracy: 0.7978\n",
      "Epoch 4/10\n",
      "32/32 [==============================] - 0s 3ms/step - loss: 0.7128 - accuracy: 0.9560 - val_loss: 0.9705 - val_accuracy: 0.8427\n",
      "Epoch 5/10\n",
      "32/32 [==============================] - 0s 3ms/step - loss: 0.6911 - accuracy: 0.9720 - val_loss: 0.9467 - val_accuracy: 0.8708\n",
      "Epoch 6/10\n",
      "32/32 [==============================] - 0s 3ms/step - loss: 0.6750 - accuracy: 0.9840 - val_loss: 0.9288 - val_accuracy: 0.8820\n",
      "Epoch 7/10\n",
      "32/32 [==============================] - 0s 3ms/step - loss: 0.6630 - accuracy: 0.9880 - val_loss: 0.9159 - val_accuracy: 0.8876\n",
      "Epoch 8/10\n",
      "32/32 [==============================] - 0s 3ms/step - loss: 0.6536 - accuracy: 0.9880 - val_loss: 0.9057 - val_accuracy: 0.8820\n",
      "Epoch 9/10\n",
      "32/32 [==============================] - 0s 2ms/step - loss: 0.6457 - accuracy: 0.9900 - val_loss: 0.8970 - val_accuracy: 0.8820\n",
      "Epoch 10/10\n",
      "32/32 [==============================] - 0s 2ms/step - loss: 0.6386 - accuracy: 0.9910 - val_loss: 0.8896 - val_accuracy: 0.8933\n"
     ]
    },
    {
     "data": {
      "text/plain": [
       "<keras.callbacks.History at 0x2bbad2dd160>"
      ]
     },
     "execution_count": 26,
     "metadata": {},
     "output_type": "execute_result"
    }
   ],
   "source": [
    "\n",
    "x_train_scaled = x_train/255\n",
    "x_test_scaled = x_test/255\n",
    "model.fit(x_train_scaled, y_train,epochs= 10, validation_data=(x_test_scaled, y_test))\n"
   ]
  },
  {
   "cell_type": "code",
   "execution_count": null,
   "id": "df6a1007",
   "metadata": {},
   "outputs": [],
   "source": [
    "# Observation : we got better result for all iterations on scaling the training dataset"
   ]
  },
  {
   "cell_type": "code",
   "execution_count": 27,
   "id": "9ae1117d",
   "metadata": {},
   "outputs": [
    {
     "name": "stdout",
     "output_type": "stream",
     "text": [
      "6/6 [==============================] - 0s 2ms/step - loss: 0.8896 - accuracy: 0.8933\n"
     ]
    },
    {
     "data": {
      "text/plain": [
       "[0.8895570635795593, 0.8932584524154663]"
      ]
     },
     "execution_count": 27,
     "metadata": {},
     "output_type": "execute_result"
    }
   ],
   "source": [
    "# evaluate test dataset\n",
    "model.evaluate(x_test_scaled,y_test)\n"
   ]
  },
  {
   "cell_type": "code",
   "execution_count": 34,
   "id": "ab33c935",
   "metadata": {},
   "outputs": [
    {
     "name": "stdout",
     "output_type": "stream",
     "text": [
      "6/6 [==============================] - 0s 3ms/step\n",
      "Prediction for the first image: 0\n",
      "Prediction for image 78: 4\n",
      "Prediction for image 144: 8\n"
     ]
    },
    {
     "data": {
      "image/png": "[encoded data removed]",
      "text/plain": [
       "<Figure size 480x480 with 1 Axes>"
      ]
     },
     "metadata": {},
     "output_type": "display_data"
    },
    {
     "data": {
      "image/png": "[encoded data removed]",
      "text/plain": [
       "<Figure size 480x480 with 1 Axes>"
      ]
     },
     "metadata": {},
     "output_type": "display_data"
    },
    {
     "data": {
      "image/png": "[encoded data removed]",
      "text/plain": [
       "<Figure size 480x480 with 1 Axes>"
      ]
     },
     "metadata": {},
     "output_type": "display_data"
    }
   ],
   "source": [
    "# Predict the first image\n",
    "plt.matshow(x_test[0], cmap='gray')\n",
    "y_predicted = model.predict(x_test_scaled)\n",
    "print(\"Prediction for the first image:\", np.argmax(y_predicted[0]))\n",
    "\n",
    "# Test some more values\n",
    "plt.matshow(x_test[88], cmap='gray')\n",
    "print(\"Prediction for image 78:\", np.argmax(y_predicted[78]))\n",
    "\n",
    "plt.matshow(x_test[177], cmap='gray')\n",
    "print(\"Prediction for image 144:\", np.argmax(y_predicted[144]))"
   ]
  },
  {
   "cell_type": "code",
   "execution_count": 35,
   "id": "cb0f9b3d",
   "metadata": {},
   "outputs": [
    {
     "name": "stdout",
     "output_type": "stream",
     "text": [
      "[0, 0, 0, 0, 0, 0, 0, 0, 0, 0, 0, 0, 0, 0, 0, 0, 0, 8, 7, 7, 7, 1, 1, 1, 1, 1, 1, 1, 7, 7, 7, 7, 7, 7, 2, 2, 3, 2, 2, 2, 2, 2, 2, 2, 2, 2, 9, 4, 2, 2, 9, 3, 3, 3, 3, 3, 3, 3, 3, 3, 3, 2, 3, 3, 3, 3, 3, 3, 4, 5, 4, 4, 4, 4, 4, 4, 4, 4, 4, 4, 4, 4, 4, 4, 4, 4, 5, 5, 5, 5, 5, 5, 5, 5, 5, 5, 5, 5, 5, 5, 5, 5, 5, 5, 6, 6, 6, 6, 6, 6, 6, 6, 6, 6, 6, 6, 6, 6, 6, 6, 6, 6, 1, 7, 7, 7, 7, 7, 7, 7, 7, 7, 3, 7, 7, 7, 7, 7, 7, 7, 8, 8, 8, 8, 8, 8, 8, 8, 8, 8, 8, 8, 8, 8, 8, 1, 8, 8, 9, 9, 9, 9, 9, 9, 9, 9, 9, 9, 9, 9, 9, 9, 9, 9, 9, 9, 9, 9] 178\n"
     ]
    },
    {
     "data": {
      "text/plain": [
       "<tf.Tensor: shape=(10, 10), dtype=int32, numpy=\n",
       "array([[17,  0,  0,  0,  0,  0,  0,  0,  1,  0],\n",
       "       [ 0,  7,  0,  0,  0,  0,  0,  9,  0,  0],\n",
       "       [ 0,  0, 13,  1,  1,  0,  0,  0,  0,  2],\n",
       "       [ 0,  0,  1, 16,  0,  0,  0,  0,  0,  0],\n",
       "       [ 0,  0,  0,  0, 17,  1,  0,  0,  0,  0],\n",
       "       [ 0,  0,  0,  0,  0, 18,  0,  0,  0,  0],\n",
       "       [ 0,  0,  0,  0,  0,  0, 18,  0,  0,  0],\n",
       "       [ 0,  1,  0,  1,  0,  0,  0, 16,  0,  0],\n",
       "       [ 0,  1,  0,  0,  0,  0,  0,  0, 17,  0],\n",
       "       [ 0,  0,  0,  0,  0,  0,  0,  0,  0, 20]])>"
      ]
     },
     "execution_count": 35,
     "metadata": {},
     "output_type": "execute_result"
    }
   ],
   "source": [
    "\n",
    "# some predictions may not be not right\n",
    "# build confusion matrix to see how our prediction looks like\n",
    "# convert to concrete values\n",
    "y_predicted_labels=[np.argmax(i) for i in y_predicted]\n",
    "print(y_predicted_labels, len(y_predicted_labels))\n",
    "conf_mat = tf.math.confusion_matrix(labels=y_test, predictions=y_predicted_labels)\n",
    "conf_mat\n"
   ]
  },
  {
   "cell_type": "code",
   "execution_count": 40,
   "id": "09e7cc62",
   "metadata": {},
   "outputs": [
    {
     "data": {
      "image/png": "[encoded data removed]",
      "text/plain": [
       "<Figure size 1000x1000 with 2 Axes>"
      ]
     },
     "metadata": {},
     "output_type": "display_data"
    }
   ],
   "source": [
    "import seaborn as sns\n",
    "\n",
    "plt.figure(figsize=(10, 10))\n",
    "sns.heatmap(conf_mat, annot=True, fmt='d', cmap='Blues')\n",
    "plt.xlabel('Predicted Label', fontsize=14)\n",
    "plt.ylabel('True Label', fontsize=14)\n",
    "plt.title('Confusion Matrix', fontsize=16)\n",
    "plt.show()\n",
    "plt.show()"
   ]
  },
  {
   "cell_type": "code",
   "execution_count": null,
   "id": "418474c3",
   "metadata": {},
   "outputs": [],
   "source": [
    "# here we can see there are some errors \n",
    "# we need to modify our nn, we add some layers in the above model and different activation function\n"
   ]
  },
  {
   "cell_type": "code",
   "execution_count": 41,
   "id": "4f04a019",
   "metadata": {},
   "outputs": [
    {
     "name": "stdout",
     "output_type": "stream",
     "text": [
      "Epoch 1/10\n",
      "32/32 [==============================] - 3s 54ms/step - loss: 1.2606 - accuracy: 0.7080 - val_loss: 0.4655 - val_accuracy: 0.8427\n",
      "Epoch 2/10\n",
      "32/32 [==============================] - 1s 35ms/step - loss: 0.1965 - accuracy: 0.9410 - val_loss: 0.2809 - val_accuracy: 0.9213\n",
      "Epoch 3/10\n",
      "32/32 [==============================] - 1s 35ms/step - loss: 0.1299 - accuracy: 0.9670 - val_loss: 0.3043 - val_accuracy: 0.9045\n",
      "Epoch 4/10\n",
      "32/32 [==============================] - 1s 36ms/step - loss: 0.0722 - accuracy: 0.9770 - val_loss: 0.3462 - val_accuracy: 0.8989\n",
      "Epoch 5/10\n",
      "32/32 [==============================] - 1s 34ms/step - loss: 0.0525 - accuracy: 0.9880 - val_loss: 0.2107 - val_accuracy: 0.9438\n",
      "Epoch 6/10\n",
      "32/32 [==============================] - 1s 33ms/step - loss: 0.0499 - accuracy: 0.9890 - val_loss: 0.2080 - val_accuracy: 0.9438\n",
      "Epoch 7/10\n",
      "32/32 [==============================] - 1s 35ms/step - loss: 0.0208 - accuracy: 0.9970 - val_loss: 0.1837 - val_accuracy: 0.9494\n",
      "Epoch 8/10\n",
      "32/32 [==============================] - 1s 32ms/step - loss: 0.0150 - accuracy: 1.0000 - val_loss: 0.1972 - val_accuracy: 0.9438\n",
      "Epoch 9/10\n",
      "32/32 [==============================] - 1s 32ms/step - loss: 0.0108 - accuracy: 1.0000 - val_loss: 0.1864 - val_accuracy: 0.9494\n",
      "Epoch 10/10\n",
      "32/32 [==============================] - 1s 37ms/step - loss: 0.0098 - accuracy: 1.0000 - val_loss: 0.1871 - val_accuracy: 0.9551\n"
     ]
    }
   ],
   "source": [
    "\n",
    "# in 1st Dense layer,the input is 32 x 32 = 1024 neurons, which will give 10 output(numbers from 0 to 9)\n",
    "# 2nd Dense layer,the input is 10 neurons from above layers output\n",
    "# we can add more layers for accuracy\n",
    "model2 = keras.Sequential([\n",
    " keras.layers.Flatten(),\n",
    " keras.layers.Dense(1024,input_shape=(1024,), activation='relu'),\n",
    " keras.layers.Dense(10, activation='softmax')\n",
    "])\n",
    "# compile the nn\n",
    "model2.compile(optimizer='adam',\n",
    " loss='sparse_categorical_crossentropy',\n",
    " metrics=['accuracy']\n",
    " )\n",
    "# train the model\n",
    "# some 10 iterations done here\n",
    "history = model2.fit(x_train_scaled, y_train,epochs= 10, validation_data=(x_test_scaled, y_test))"
   ]
  },
  {
   "cell_type": "code",
   "execution_count": 42,
   "id": "9bf66395",
   "metadata": {},
   "outputs": [
    {
     "name": "stdout",
     "output_type": "stream",
     "text": [
      "6/6 [==============================] - 0s 9ms/step - loss: 0.1871 - accuracy: 0.9551\n"
     ]
    },
    {
     "data": {
      "text/plain": [
       "[0.18714649975299835, 0.9550561904907227]"
      ]
     },
     "execution_count": 42,
     "metadata": {},
     "output_type": "execute_result"
    }
   ],
   "source": [
    "# Observation : due to multiple layers the compiling will take more time to execute\n",
    "# we also got amazing accuracy than earlier\n",
    "# evaluate test dataset on modified model\n",
    "model2.evaluate(x_test_scaled,y_test)"
   ]
  },
  {
   "cell_type": "code",
   "execution_count": 43,
   "id": "ae8106f7",
   "metadata": {},
   "outputs": [
    {
     "name": "stdout",
     "output_type": "stream",
     "text": [
      "6/6 [==============================] - 0s 11ms/step\n",
      "[0, 0, 0, 0, 0, 0, 0, 0, 0, 0, 0, 0, 0, 0, 0, 0, 0, 8, 1, 1, 1, 1, 1, 1, 1, 1, 1, 1, 7, 1, 1, 1, 7, 1, 2, 2, 2, 2, 2, 2, 2, 2, 2, 2, 2, 2, 9, 4, 2, 2, 5, 3, 3, 3, 3, 3, 3, 3, 3, 3, 3, 3, 3, 3, 3, 3, 3, 3, 4, 4, 4, 4, 4, 4, 4, 4, 4, 4, 4, 4, 4, 4, 4, 4, 4, 4, 5, 5, 5, 5, 5, 5, 5, 5, 5, 5, 5, 5, 5, 5, 5, 5, 5, 5, 6, 6, 6, 6, 6, 6, 6, 6, 6, 6, 6, 6, 6, 6, 6, 6, 6, 6, 1, 7, 7, 7, 7, 7, 7, 7, 7, 7, 1, 7, 7, 7, 7, 7, 7, 7, 8, 8, 8, 8, 8, 8, 8, 8, 8, 8, 8, 8, 8, 8, 8, 8, 8, 8, 9, 9, 9, 9, 9, 9, 9, 9, 9, 9, 9, 9, 9, 9, 9, 9, 9, 9, 9, 9] 178\n"
     ]
    },
    {
     "data": {
      "text/plain": [
       "<tf.Tensor: shape=(10, 10), dtype=int32, numpy=\n",
       "array([[17,  0,  0,  0,  0,  0,  0,  0,  1,  0],\n",
       "       [ 0, 14,  0,  0,  0,  0,  0,  2,  0,  0],\n",
       "       [ 0,  0, 14,  0,  1,  1,  0,  0,  0,  1],\n",
       "       [ 0,  0,  0, 17,  0,  0,  0,  0,  0,  0],\n",
       "       [ 0,  0,  0,  0, 18,  0,  0,  0,  0,  0],\n",
       "       [ 0,  0,  0,  0,  0, 18,  0,  0,  0,  0],\n",
       "       [ 0,  0,  0,  0,  0,  0, 18,  0,  0,  0],\n",
       "       [ 0,  2,  0,  0,  0,  0,  0, 16,  0,  0],\n",
       "       [ 0,  0,  0,  0,  0,  0,  0,  0, 18,  0],\n",
       "       [ 0,  0,  0,  0,  0,  0,  0,  0,  0, 20]])>"
      ]
     },
     "execution_count": 43,
     "metadata": {},
     "output_type": "execute_result"
    }
   ],
   "source": [
    "# Earlier we got 0.9213483333587646 now we got 0.9606741666793823 accuracy\n",
    "# redo the confusion matrix \n",
    "# build confusion matrix to see how our prediction looks like\n",
    "# convert to concrete values\n",
    "y_predicted = model2.predict(x_test_scaled)\n",
    "y_predicted[0]\n",
    "y_predicted_labels=[np.argmax(i) for i in y_predicted]\n",
    "print(y_predicted_labels, len(y_predicted_labels))\n",
    "conf_mat = tf.math.confusion_matrix(labels=y_test, predictions=y_predicted_labels)\n",
    "conf_mat"
   ]
  },
  {
   "cell_type": "code",
   "execution_count": 45,
   "id": "37bda4a5",
   "metadata": {},
   "outputs": [
    {
     "data": {
      "text/plain": [
       "Text(95.72222222222221, 0.5, 'Actual')"
      ]
     },
     "execution_count": 45,
     "metadata": {},
     "output_type": "execute_result"
    },
    {
     "data": {
      "image/png": "[encoded data removed]",
      "text/plain": [
       "<Figure size 1000x1000 with 2 Axes>"
      ]
     },
     "metadata": {},
     "output_type": "display_data"
    }
   ],
   "source": [
    "plt.figure(figsize = (10,10))\n",
    "sn.heatmap(conf_mat,annot=True,fmt='d',cmap='Blues')\n",
    "plt.xlabel('Predicted')\n",
    "plt.ylabel('Actual')"
   ]
  },
  {
   "cell_type": "code",
   "execution_count": null,
   "id": "9a0cd302",
   "metadata": {},
   "outputs": [],
   "source": [
    "# Observatoin : we see in the updated model, there are less number of errors, \n"
   ]
  },
  {
   "cell_type": "code",
   "execution_count": 47,
   "id": "52bcd2d3",
   "metadata": {},
   "outputs": [
    {
     "name": "stdout",
     "output_type": "stream",
     "text": [
      "6/6 [==============================] - 0s 7ms/step - loss: 18.2747 - accuracy: 0.8876\n",
      "Test accuracy: 0.8876404762268066\n"
     ]
    },
    {
     "data": {
      "image/png": "[encoded data removed]",
      "text/plain": [
       "<Figure size 640x480 with 1 Axes>"
      ]
     },
     "metadata": {},
     "output_type": "display_data"
    }
   ],
   "source": [
    "# Evaluate the model\n",
    "test_loss, test_acc = model.evaluate(x_test, y_test)\n",
    "print('Test accuracy:', test_acc)\n",
    "\n",
    "# Plot the training and validation accuracy\n",
    "plt.plot(history.history['accuracy'], color='blue')\n",
    "plt.plot(history.history['val_accuracy'], color='red')\n",
    "plt.title('Model accuracy')\n",
    "plt.ylabel('Accuracy')\n",
    "plt.xlabel('Epoch')\n",
    "plt.legend(['Train', 'Validation'], loc='upper left')\n",
    "plt.show()"
   ]
  },
  {
   "cell_type": "code",
   "execution_count": null,
   "id": "7c631360",
   "metadata": {},
   "outputs": [],
   "source": []
  }
 ],
 "metadata": {
  "kernelspec": {
   "display_name": "Python 3 (ipykernel)",
   "language": "python",
   "name": "python3"
  },
  "language_info": {
   "codemirror_mode": {
    "name": "ipython",
    "version": 3
   },
   "file_extension": ".py",
   "mimetype": "text/x-python",
   "name": "python",
   "nbconvert_exporter": "python",
   "pygments_lexer": "ipython3",
   "version": "3.9.13"
  }
 },
 "nbformat": 4,
 "nbformat_minor": 5
}
